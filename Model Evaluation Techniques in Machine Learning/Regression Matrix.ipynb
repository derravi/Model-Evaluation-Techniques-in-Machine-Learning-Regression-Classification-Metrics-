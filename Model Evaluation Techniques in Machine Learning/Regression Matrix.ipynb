{
 "cells": [
  {
   "cell_type": "code",
   "execution_count": 1,
   "id": "d744b7cd-69aa-4d8c-bf4c-827e5713e5eb",
   "metadata": {},
   "outputs": [
    {
     "data": {
      "text/plain": [
       "'\\n#Regression Matrix\\n-> The main wotrk of this Regression Matrix is to ind the how much our Algoridhm give the wrong Prediction.\\n\\n-> There is a Total 3 Types are there.\\n\\n(1) MAE(Mean Absolute Error)\\n-> How much my model give me the mistakes.\\n-> Like machine is predict the 80 marks but the student is get 90 actual marks.\\n-> Steps of this MAE.\\n    (i) Take the mistake difference.\\n    (ii)Remove the minus sign.\\n    (iii)add all the mistakes.\\n    (iv) Divide by total student.\\n-> Average of model by X values.\\n\\n(2) MSE(Mean Squared Error)\\n-> First we are multiply the mistakes number by it self.\\n-> Then we are add this all the values.\\n-> Devide the sum values into the total number of student.\\n->Whwn we need to find the Big Mistakes \\n\\n(3) RMSE(Root Mean Squared Error)\\n->import numpy \\n-> square root of MSE\\n-> Mainly used in House Price,Helth,Exam Mark \\n'"
      ]
     },
     "execution_count": 1,
     "metadata": {},
     "output_type": "execute_result"
    }
   ],
   "source": [
    "\"\"\"\n",
    "#Regression Matrix\n",
    "-> The main wotrk of this Regression Matrix is to ind the how much our Algoridhm give the wrong Prediction.\n",
    "\n",
    "-> There is a Total 3 Types are there.\n",
    "\n",
    "(1) MAE(Mean Absolute Error)\n",
    "-> How much my model give me the mistakes.\n",
    "-> Like machine is predict the 80 marks but the student is get 90 actual marks.\n",
    "-> Steps of this MAE.\n",
    "    (i) Take the mistake difference.\n",
    "    (ii)Remove the minus sign.\n",
    "    (iii)add all the mistakes.\n",
    "    (iv) Divide by total student.\n",
    "-> Average of model by X values.\n",
    "\n",
    "(2) MSE(Mean Squared Error)\n",
    "-> First we are multiply the mistakes number by it self.\n",
    "-> Then we are add this all the values.\n",
    "-> Devide the sum values into the total number of student.\n",
    "->Whwn we need to find the Big Mistakes \n",
    "\n",
    "(3) RMSE(Root Mean Squared Error)\n",
    "->import numpy \n",
    "-> square root of MSE\n",
    "-> Mainly used in House Price,Helth,Exam Mark \n",
    "\"\"\""
   ]
  },
  {
   "cell_type": "code",
   "execution_count": 2,
   "id": "9a63dd89",
   "metadata": {},
   "outputs": [],
   "source": [
    "from sklearn.metrics import mean_absolute_error,mean_squared_error\n",
    "import numpy as np\n",
    "\n",
    "#Real Values\n",
    "x_real = [90,60,80,100]\n",
    "\n",
    "#Predicted Values\n",
    "x_predicted = [85,70,70,95]\n",
    "\n",
    "mae = mean_absolute_error(x_real,x_predicted)\n",
    "mse = mean_squared_error(x_real,x_predicted)\n",
    "rmqe = np.\n",
    "print(\"\")"
   ]
  }
 ],
 "metadata": {
  "kernelspec": {
   "display_name": "Python 3 (ipykernel)",
   "language": "python",
   "name": "python3"
  },
  "language_info": {
   "codemirror_mode": {
    "name": "ipython",
    "version": 3
   },
   "file_extension": ".py",
   "mimetype": "text/x-python",
   "name": "python",
   "nbconvert_exporter": "python",
   "pygments_lexer": "ipython3",
   "version": "3.13.7"
  }
 },
 "nbformat": 4,
 "nbformat_minor": 5
}
