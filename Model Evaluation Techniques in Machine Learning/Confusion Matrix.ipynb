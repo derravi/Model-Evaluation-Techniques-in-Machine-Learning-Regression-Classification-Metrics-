{
 "cells": [
  {
   "cell_type": "code",
   "execution_count": null,
   "id": "b149d826-d356-43be-acc1-13922597bf75",
   "metadata": {},
   "outputs": [],
   "source": [
    "\"\"\"\n",
    "#Confusion Matrix\n",
    "-> Let`s understand with the example;\n",
    "\n",
    "Student        Actual status         Prediction Status\n",
    "  A              Pass                     Pass            True Prediction\n",
    "  B              Fail                     Fail            True Prediction\n",
    "  C              Pass                     Fail            Wrong Prediction \n",
    "  D              Fail                     Pass            Wrong Prediction\n",
    "\n",
    "-> In this case we are use this Confusion Matrix.\n",
    "-> There is a total 4 types are there let see one by one.\n",
    "\n",
    "(1) TP (True Postive)\n",
    "-> The machine tell us the student is Pass and the actual reality the student is passed.\n",
    "-> Machine - Pass\n",
    "->Actual Reality - Pass\n",
    "-> This is \"CG\" it means Correct Guess.\n",
    "\n",
    "(2) TN (True Negative)\n",
    "-> The machine is predict the student is fail in exam, and the actual reality is make its true tha student is fail in the exam.\n",
    "->Machine - Fail\n",
    "->Actual Reality - Fail\n",
    "-> This is also Known as \"CG\" Correct guess.\n",
    "\n",
    "(3) FP (False Positive)\n",
    "-> The Machine says the student is likely Fail in exam.\n",
    "-> The Actual result is the student is passed in the exam.\n",
    "-> Machine->Fail\n",
    "-> Actual-> Pass\n",
    "-> WG - Wrong Guess\n",
    "\n",
    "(4) FN (False Negative)\n",
    "->The machine is guess the student is likely passed, but the student is failed in the exam.\n",
    "-> Machine-> Passed\n",
    "-> Actual-> Fail\n",
    "-> WG-Wrong guess\n",
    "\"\"\" "
   ]
  },
  {
   "cell_type": "code",
   "execution_count": 7,
   "id": "468cfe8d-f5ec-40c9-83dd-e1afd8496f8f",
   "metadata": {},
   "outputs": [
    {
     "name": "stdout",
     "output_type": "stream",
     "text": [
      "The Confusion Matrix is:\n",
      "[[4 3]\n",
      " [1 5]]\n"
     ]
    }
   ],
   "source": [
    "from sklearn.metrics import confusion_matrix\n",
    "\n",
    "x_true = [1,0,0,1,0,1,0,0,0,1,0,1,1]\n",
    "x_predict = [1,1,0,1,0,1,1,0,0,0,1,1,1]\n",
    "\n",
    "model = confusion_matrix(x_true,x_predict)\n",
    "\n",
    "print(\"The Confusion Matrix is:\")\n",
    "print(model)"
   ]
  }
 ],
 "metadata": {
  "kernelspec": {
   "display_name": "Python 3 (ipykernel)",
   "language": "python",
   "name": "python3"
  },
  "language_info": {
   "codemirror_mode": {
    "name": "ipython",
    "version": 3
   },
   "file_extension": ".py",
   "mimetype": "text/x-python",
   "name": "python",
   "nbconvert_exporter": "python",
   "pygments_lexer": "ipython3",
   "version": "3.13.7"
  }
 },
 "nbformat": 4,
 "nbformat_minor": 5
}
