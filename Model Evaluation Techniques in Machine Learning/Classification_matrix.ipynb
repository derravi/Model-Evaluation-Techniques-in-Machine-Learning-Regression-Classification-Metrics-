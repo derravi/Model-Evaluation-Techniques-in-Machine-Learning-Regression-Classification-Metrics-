{
 "cells": [
  {
   "cell_type": "code",
   "execution_count": null,
   "id": "1ffe697a-9ff2-476e-968a-9c2ed9a757fb",
   "metadata": {},
   "outputs": [],
   "source": [
    "\"\"\"\n",
    "#Classicafication Matrix\n",
    "-> Learn to evaluate Classification models using accuracy,precision,recall and F1-Score.\n",
    "-> We are find the Accuracy,Precision,Recall and F1-Score.\n",
    "\n",
    "(1) Accuracy:-\n",
    "-> Accuracy = Correct Prediction / Total Prediction\n",
    "\n",
    "(2) Precision:- \n",
    "->When we need to avoid the False Values that time we are use this.\n",
    "-> Like in the 10 student 7 have a cough so 7/10 it means the 70% student have a cough and we are\n",
    "    avoide the 30% student that dont have cough.\n",
    "-> we are take only the posotive cases.\n",
    "\n",
    "(3) Recall:- \n",
    "->assume we have a 8 student that have a cough. and tha machine is tell us only 6 student have a cough.\n",
    "-> So the output is 8/6 = 75% so this is a Recall.\n",
    "\n",
    "(4) F1-Score:- \n",
    "->it is the smart balance between the Precision and Recall.\n",
    "->When we are make our data into the balanced that time we are use this F1-Score to balance our data.\n",
    "\n",
    "\"\"\""
   ]
  },
  {
   "cell_type": "code",
   "execution_count": 8,
   "id": "dbcaf09f",
   "metadata": {},
   "outputs": [
    {
     "name": "stdout",
     "output_type": "stream",
     "text": [
      "Accuracy Score : 0.7\n",
      "Precision score : 0.7142857142857143\n",
      "Recall Score of : 0.8333333333333334\n",
      "F1 Score : 0.7692307692307693\n"
     ]
    }
   ],
   "source": [
    "from sklearn.metrics import accuracy_score,precision_score,recall_score,f1_score\n",
    "\n",
    "#Origonal Input\n",
    "x_input = [1,0,0,1,1,0,1,0,1,1]\n",
    "\n",
    "#Predicted Output\n",
    "x_predict = [1,1,0,1,1,1,1,0,1,0]\n",
    "\n",
    "print(\"Accuracy Score :\",accuracy_score(x_input,x_predict))\n",
    "print(\"Precision score :\",precision_score(x_input,x_predict))\n",
    "print(\"Recall Score of :\",recall_score(x_input,x_predict))\n",
    "print(\"F1 Score :\",f1_score(x_input,x_predict))"
   ]
  }
 ],
 "metadata": {
  "kernelspec": {
   "display_name": "Python 3",
   "language": "python",
   "name": "python3"
  },
  "language_info": {
   "codemirror_mode": {
    "name": "ipython",
    "version": 3
   },
   "file_extension": ".py",
   "mimetype": "text/x-python",
   "name": "python",
   "nbconvert_exporter": "python",
   "pygments_lexer": "ipython3",
   "version": "3.13.7"
  }
 },
 "nbformat": 4,
 "nbformat_minor": 5
}
